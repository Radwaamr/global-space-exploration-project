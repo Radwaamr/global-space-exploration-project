{
 "cells": [
  {
   "cell_type": "code",
   "execution_count": 1,
   "id": "1d2b3f89",
   "metadata": {},
   "outputs": [
    {
     "data": {
      "text/html": [
       "<div>\n",
       "<style scoped>\n",
       "    .dataframe tbody tr th:only-of-type {\n",
       "        vertical-align: middle;\n",
       "    }\n",
       "\n",
       "    .dataframe tbody tr th {\n",
       "        vertical-align: top;\n",
       "    }\n",
       "\n",
       "    .dataframe thead th {\n",
       "        text-align: right;\n",
       "    }\n",
       "</style>\n",
       "<table border=\"1\" class=\"dataframe\">\n",
       "  <thead>\n",
       "    <tr style=\"text-align: right;\">\n",
       "      <th></th>\n",
       "      <th>Country</th>\n",
       "      <th>Year</th>\n",
       "      <th>Mission Name</th>\n",
       "      <th>Mission Type</th>\n",
       "      <th>Launch Site</th>\n",
       "      <th>Satellite Type</th>\n",
       "      <th>Budget (in Billion $)</th>\n",
       "      <th>Success Rate (%)</th>\n",
       "      <th>Technology Used</th>\n",
       "      <th>Environmental Impact</th>\n",
       "      <th>Collaborating Countries</th>\n",
       "      <th>Duration (in Days)</th>\n",
       "    </tr>\n",
       "  </thead>\n",
       "  <tbody>\n",
       "    <tr>\n",
       "      <th>0</th>\n",
       "      <td>China</td>\n",
       "      <td>2008</td>\n",
       "      <td>Sharable tertiary superstructure</td>\n",
       "      <td>Manned</td>\n",
       "      <td>Sheilatown</td>\n",
       "      <td>Communication</td>\n",
       "      <td>16.20</td>\n",
       "      <td>90</td>\n",
       "      <td>Nuclear Propulsion</td>\n",
       "      <td>Medium</td>\n",
       "      <td>France, UK, Russia</td>\n",
       "      <td>112</td>\n",
       "    </tr>\n",
       "    <tr>\n",
       "      <th>1</th>\n",
       "      <td>Japan</td>\n",
       "      <td>2018</td>\n",
       "      <td>Re-engineered composite flexibility</td>\n",
       "      <td>Manned</td>\n",
       "      <td>New Ericfurt</td>\n",
       "      <td>Communication</td>\n",
       "      <td>29.04</td>\n",
       "      <td>99</td>\n",
       "      <td>Solar Propulsion</td>\n",
       "      <td>High</td>\n",
       "      <td>Germany, Israel</td>\n",
       "      <td>236</td>\n",
       "    </tr>\n",
       "    <tr>\n",
       "      <th>2</th>\n",
       "      <td>Israel</td>\n",
       "      <td>2013</td>\n",
       "      <td>Reactive disintermediate projection</td>\n",
       "      <td>Manned</td>\n",
       "      <td>Port Kaitlynstad</td>\n",
       "      <td>Communication</td>\n",
       "      <td>28.73</td>\n",
       "      <td>54</td>\n",
       "      <td>AI Navigation</td>\n",
       "      <td>Medium</td>\n",
       "      <td>China, Israel, USA</td>\n",
       "      <td>238</td>\n",
       "    </tr>\n",
       "    <tr>\n",
       "      <th>3</th>\n",
       "      <td>UAE</td>\n",
       "      <td>2010</td>\n",
       "      <td>Grass-roots 6thgeneration implementation</td>\n",
       "      <td>Unmanned</td>\n",
       "      <td>Mariastad</td>\n",
       "      <td>Spy</td>\n",
       "      <td>37.27</td>\n",
       "      <td>58</td>\n",
       "      <td>Traditional Rocket</td>\n",
       "      <td>Low</td>\n",
       "      <td>USA</td>\n",
       "      <td>186</td>\n",
       "    </tr>\n",
       "    <tr>\n",
       "      <th>4</th>\n",
       "      <td>India</td>\n",
       "      <td>2006</td>\n",
       "      <td>Balanced discrete orchestration</td>\n",
       "      <td>Manned</td>\n",
       "      <td>North Jasonborough</td>\n",
       "      <td>Weather</td>\n",
       "      <td>18.95</td>\n",
       "      <td>91</td>\n",
       "      <td>Solar Propulsion</td>\n",
       "      <td>Medium</td>\n",
       "      <td>Israel, China, India</td>\n",
       "      <td>277</td>\n",
       "    </tr>\n",
       "  </tbody>\n",
       "</table>\n",
       "</div>"
      ],
      "text/plain": [
       "  Country  Year                              Mission Name Mission Type  \\\n",
       "0   China  2008          Sharable tertiary superstructure       Manned   \n",
       "1   Japan  2018       Re-engineered composite flexibility       Manned   \n",
       "2  Israel  2013       Reactive disintermediate projection       Manned   \n",
       "3     UAE  2010  Grass-roots 6thgeneration implementation     Unmanned   \n",
       "4   India  2006           Balanced discrete orchestration       Manned   \n",
       "\n",
       "          Launch Site Satellite Type  Budget (in Billion $)  Success Rate (%)  \\\n",
       "0          Sheilatown  Communication                  16.20                90   \n",
       "1        New Ericfurt  Communication                  29.04                99   \n",
       "2    Port Kaitlynstad  Communication                  28.73                54   \n",
       "3           Mariastad            Spy                  37.27                58   \n",
       "4  North Jasonborough        Weather                  18.95                91   \n",
       "\n",
       "      Technology Used Environmental Impact Collaborating Countries  \\\n",
       "0  Nuclear Propulsion               Medium      France, UK, Russia   \n",
       "1    Solar Propulsion                 High         Germany, Israel   \n",
       "2       AI Navigation               Medium      China, Israel, USA   \n",
       "3  Traditional Rocket                  Low                     USA   \n",
       "4    Solar Propulsion               Medium    Israel, China, India   \n",
       "\n",
       "   Duration (in Days)  \n",
       "0                 112  \n",
       "1                 236  \n",
       "2                 238  \n",
       "3                 186  \n",
       "4                 277  "
      ]
     },
     "execution_count": 1,
     "metadata": {},
     "output_type": "execute_result"
    }
   ],
   "source": [
    "import pandas as pd\n",
    "\n",
    "df= pd.read_csv(\"Global_Space_Exploration_Dataset.csv\")\n",
    "\n",
    "df.head()"
   ]
  },
  {
   "cell_type": "code",
   "execution_count": 2,
   "id": "a56c590b",
   "metadata": {},
   "outputs": [],
   "source": [
    "df.drop_duplicates(inplace=True)"
   ]
  },
  {
   "cell_type": "code",
   "execution_count": 3,
   "id": "12d1c294",
   "metadata": {},
   "outputs": [],
   "source": [
    "df.columns=df.columns.str.replace(\" \",\"_\").str.replace(\"(\",\"\").str.replace(\")\",\"\")\n"
   ]
  },
  {
   "cell_type": "code",
   "execution_count": 4,
   "id": "c3e16ae2",
   "metadata": {},
   "outputs": [],
   "source": [
    "df['Success_Rate_%']=df['Success_Rate_%'].astype(float)"
   ]
  },
  {
   "cell_type": "code",
   "execution_count": 5,
   "id": "b856ce22",
   "metadata": {},
   "outputs": [
    {
     "name": "stdout",
     "output_type": "stream",
     "text": [
      "<class 'pandas.core.frame.DataFrame'>\n",
      "RangeIndex: 3000 entries, 0 to 2999\n",
      "Data columns (total 12 columns):\n",
      " #   Column                   Non-Null Count  Dtype  \n",
      "---  ------                   --------------  -----  \n",
      " 0   Country                  3000 non-null   object \n",
      " 1   Year                     3000 non-null   int64  \n",
      " 2   Mission_Name             3000 non-null   object \n",
      " 3   Mission_Type             3000 non-null   object \n",
      " 4   Launch_Site              3000 non-null   object \n",
      " 5   Satellite_Type           3000 non-null   object \n",
      " 6   Budget_in_Billion_$      3000 non-null   float64\n",
      " 7   Success_Rate_%           3000 non-null   float64\n",
      " 8   Technology_Used          3000 non-null   object \n",
      " 9   Environmental_Impact     3000 non-null   object \n",
      " 10  Collaborating_Countries  3000 non-null   object \n",
      " 11  Duration_in_Days         3000 non-null   int64  \n",
      "dtypes: float64(2), int64(2), object(8)\n",
      "memory usage: 281.4+ KB\n"
     ]
    }
   ],
   "source": [
    "df.info()"
   ]
  },
  {
   "cell_type": "markdown",
   "id": "a2f495c6",
   "metadata": {},
   "source": [
    "**Read Data from Staging Table**"
   ]
  },
  {
   "cell_type": "code",
   "execution_count": 8,
   "id": "cdac5133",
   "metadata": {},
   "outputs": [
    {
     "data": {
      "text/plain": [
       "42"
      ]
     },
     "execution_count": 8,
     "metadata": {},
     "output_type": "execute_result"
    }
   ],
   "source": [
    "from sqlalchemy import create_engine\n",
    "\n",
    "server = '.'\n",
    "database='SpaceDW'\n",
    "engine = create_engine(f\"mssql+pyodbc://@{server}/{database}?driver=ODBC+Driver+17+for+SQL+Server&trusted_connection=yes\")\n",
    "\n",
    "df.to_sql('Staging_SpaceMissions',con=engine,if_exists='replace',index=False)"
   ]
  },
  {
   "cell_type": "markdown",
   "id": "f9ce51b2",
   "metadata": {},
   "source": [
    "**Preview Sample Data from Staging Table**"
   ]
  },
  {
   "cell_type": "code",
   "execution_count": 12,
   "id": "abd46da5",
   "metadata": {},
   "outputs": [
    {
     "name": "stdout",
     "output_type": "stream",
     "text": [
      "('China', 2008, 'Sharable tertiary superstructure', 'Manned', 'Sheilatown', 'Communication', 16.2, 90.0, 'Nuclear Propulsion', 'Medium', 'France, UK, Russia', 112)\n",
      "('Japan', 2018, 'Re-engineered composite flexibility', 'Manned', 'New Ericfurt', 'Communication', 29.04, 99.0, 'Solar Propulsion', 'High', 'Germany, Israel', 236)\n",
      "('Israel', 2013, 'Reactive disintermediate projection', 'Manned', 'Port Kaitlynstad', 'Communication', 28.73, 54.0, 'AI Navigation', 'Medium', 'China, Israel, USA', 238)\n",
      "('UAE', 2010, 'Grass-roots 6thgeneration implementation', 'Unmanned', 'Mariastad', 'Spy', 37.27, 58.0, 'Traditional Rocket', 'Low', 'USA', 186)\n",
      "('India', 2006, 'Balanced discrete orchestration', 'Manned', 'North Jasonborough', 'Weather', 18.95, 91.0, 'Solar Propulsion', 'Medium', 'Israel, China, India', 277)\n"
     ]
    }
   ],
   "source": [
    "from sqlalchemy import text \n",
    "\n",
    "with engine.connect() as conn:\n",
    "    result = conn.execute(text(\"SELECT TOP 5 * FROM Staging_SpaceMissions\"))\n",
    "    for row in result:\n",
    "        print(row)\n"
   ]
  },
  {
   "cell_type": "markdown",
   "id": "8bcef1e4",
   "metadata": {},
   "source": [
    "**Load Distinct Countries into DimCountry**"
   ]
  },
  {
   "cell_type": "code",
   "execution_count": 14,
   "id": "a83f8022",
   "metadata": {},
   "outputs": [
    {
     "data": {
      "text/plain": [
       "10"
      ]
     },
     "execution_count": 14,
     "metadata": {},
     "output_type": "execute_result"
    }
   ],
   "source": [
    "with engine.connect() as conn:\n",
    "    df_country=pd.read_sql(text(\"\"\"\n",
    "        SELECT DISTINCT Country\n",
    "        FROM Staging_SpaceMissions\n",
    "        WHERE Country IS NOT NULL\n",
    "     \"\"\"),conn)\n",
    "\n",
    "df_country.to_sql('DimCountry', con=engine,if_exists='append',index=False)    "
   ]
  },
  {
   "cell_type": "markdown",
   "id": "8c43e78e",
   "metadata": {},
   "source": [
    "**Load Dimensions Tables**"
   ]
  },
  {
   "cell_type": "code",
   "execution_count": 19,
   "id": "2c18b6c0",
   "metadata": {},
   "outputs": [
    {
     "data": {
      "text/plain": [
       "2"
      ]
     },
     "execution_count": 19,
     "metadata": {},
     "output_type": "execute_result"
    }
   ],
   "source": [
    "with engine.connect() as conn:\n",
    "    df_mission_type=pd.read_sql(text(\"\"\"\n",
    "        SELECT DISTINCT Mission_Type\n",
    "        FROM Staging_SpaceMissions\n",
    "        WHERE Mission_Type IS NOT NULL\n",
    "         \"\"\"),conn)\n",
    "\n",
    "df_mission_type.columns=['MissionType']\n",
    "df_mission_type.to_sql('DimMissionType',con=engine, if_exists='append',index=False)"
   ]
  },
  {
   "cell_type": "code",
   "execution_count": 89,
   "id": "50f8f110",
   "metadata": {},
   "outputs": [
    {
     "data": {
      "text/plain": [
       "5"
      ]
     },
     "execution_count": 89,
     "metadata": {},
     "output_type": "execute_result"
    }
   ],
   "source": [
    "with engine.connect() as conn:\n",
    "    df_technology=pd.read_sql(text(\"\"\"\n",
    "        SELECT DISTINCT Technology_Used\n",
    "        FROM Staging_SpaceMissions\n",
    "        WHERE Technology_Used IS NOT NULL\n",
    "         \"\"\"),conn)\n",
    "\n",
    "df_technology.columns=['Technology']\n",
    "df_technology.to_sql('DimTechnology',con=engine, if_exists='append',index=False)"
   ]
  },
  {
   "cell_type": "code",
   "execution_count": 90,
   "id": "884dbbe4",
   "metadata": {},
   "outputs": [
    {
     "data": {
      "text/plain": [
       "639"
      ]
     },
     "execution_count": 90,
     "metadata": {},
     "output_type": "execute_result"
    }
   ],
   "source": [
    "with engine.connect() as conn:\n",
    "    df_collab_country = pd.read_sql(text(\"\"\"\n",
    "        SELECT DISTINCT Collaborating_Countries\n",
    "        FROM Staging_SpaceMissions\n",
    "        WHERE Collaborating_Countries IS NOT NULL\n",
    "    \"\"\"), conn)\n",
    "\n",
    "df_collab_country.columns = ['CollaboratingCountries']\n",
    "\n",
    "df_collab_country.to_sql('DimCollaboratingCountries', con=engine, if_exists='append', index=False)\n"
   ]
  },
  {
   "cell_type": "code",
   "execution_count": 30,
   "id": "53b954e2",
   "metadata": {},
   "outputs": [
    {
     "data": {
      "text/plain": [
       "26"
      ]
     },
     "execution_count": 30,
     "metadata": {},
     "output_type": "execute_result"
    }
   ],
   "source": [
    "with engine.connect() as conn:\n",
    "    df_years=pd.read_sql(text(\"\"\"\n",
    "        SELECT DISTINCT Year , (Year / 10)*10               \n",
    "        FROM Staging_SpaceMissions\n",
    "        WHERE Year IS NOT NULL\n",
    "        \"\"\"),conn)\n",
    "df_years.columns=['Year_Key','Decade']\n",
    "df_years.to_sql('DimYear',con=engine,if_exists='append',index=False)\n"
   ]
  },
  {
   "cell_type": "code",
   "execution_count": null,
   "id": "1a1ad94b",
   "metadata": {},
   "outputs": [],
   "source": [
    "dimensions={\n",
    "    'DimLaunchSite':'Launch_Site',\n",
    "    'DimSatelliteType':'Satellite_Type',\n",
    "    'DimEnvironmentalImpact':'Environmental_Impact'\n",
    "}\n",
    "\n",
    "for dim_table, col in dimensions.items():\n",
    "    with engine.connect() as conn:\n",
    "        df_dim = pd.read_sql(text(f\"\"\"\n",
    "            SELECT DISTINCT [{col}]\n",
    "            FROM Staging_SpaceMissions\n",
    "            WHERE [{col}] IS NOT NULL\n",
    "        \"\"\"), conn)\n",
    "\n",
    "    df_dim.columns=[col.replace('_','')]\n",
    "\n",
    "    df_dim.to_sql(dim_table,con=engine,if_exists='append',index=False)    \n"
   ]
  },
  {
   "cell_type": "markdown",
   "id": "68c37e1a",
   "metadata": {},
   "source": [
    "**Load All Dimension Tables for Joining**"
   ]
  },
  {
   "cell_type": "code",
   "execution_count": 91,
   "id": "a48fe728",
   "metadata": {},
   "outputs": [],
   "source": [
    "df_staging = pd.read_sql(\"SELECT * FROM Staging_SpaceMissions\", engine)\n",
    "\n",
    "df_country = pd.read_sql(\"SELECT Country_Key, Country FROM DimCountry\", engine)\n",
    "df_launch = pd.read_sql(\"SELECT LaunchSite_Key, LaunchSite FROM DimLaunchSite\", engine)\n",
    "df_year = pd.read_sql(\"SELECT Year_Key, Decade FROM DimYear\", engine)\n",
    "df_mission_type = pd.read_sql(\"SELECT MissionType_Key, MissionType FROM DimMissionType\", engine)\n",
    "df_satellite_type = pd.read_sql(\"SELECT SatelliteType_Key, SatelliteType FROM DimSatelliteType\", engine)\n",
    "df_technology = pd.read_sql(\"SELECT Tech_Key, Technology FROM DimTechnology\", engine)\n",
    "df_envImpact = pd.read_sql(\"SELECT EnvImpact_Key, EnvironmentalImpact FROM DimEnvironmentalImpact\", engine)\n",
    "df_collab_country = pd.read_sql(\"SELECT CollabCountries_Key, CollaboratingCountries FROM DimCollaboratingCountries\", engine)\n"
   ]
  },
  {
   "cell_type": "markdown",
   "id": "ec464ac3",
   "metadata": {},
   "source": [
    "**Merge Staging Table with Dimension Tables**"
   ]
  },
  {
   "cell_type": "code",
   "execution_count": 92,
   "id": "f56f813d",
   "metadata": {},
   "outputs": [
    {
     "name": "stdout",
     "output_type": "stream",
     "text": [
      "After Country Merge: (3000, 13)\n",
      "After Year Merge: (2926, 15)\n",
      "After Launch Site Merge: (5852, 17)\n",
      "After Environmental Impact Merge: (11704, 19)\n",
      "After Mission Type Merge: (11704, 21)\n",
      "After Satellite Type Merge: (23408, 23)\n",
      "After Technology Merge: (46816, 25)\n",
      "After Collaborating Countries Merge: (93632, 27)\n"
     ]
    }
   ],
   "source": [
    "df = df_staging.merge(df_country, on='Country')\n",
    "print(\"After Country Merge:\", df.shape)\n",
    "df = df.merge(df_year, left_on='Year', right_on='Decade')\n",
    "print(\"After Year Merge:\", df.shape)\n",
    "df = df.merge(df_launch, left_on='Launch_Site', right_on='LaunchSite')\n",
    "print(\"After Launch Site Merge:\", df.shape)\n",
    "df = df.merge(df_envImpact, left_on='Environmental_Impact', right_on='EnvironmentalImpact')\n",
    "print(\"After Environmental Impact Merge:\", df.shape)\n",
    "df = df.merge(df_mission_type, left_on='Mission_Type', right_on='MissionType')\n",
    "print(\"After Mission Type Merge:\", df.shape)\n",
    "df = df.merge(df_satellite_type, left_on='Satellite_Type', right_on='SatelliteType')\n",
    "print(\"After Satellite Type Merge:\", df.shape)\n",
    "df = df.merge(df_technology, left_on='Technology_Used', right_on='Technology')\n",
    "print(\"After Technology Merge:\", df.shape)\n",
    "df = df.merge(df_collab_country, left_on='Collaborating_Countries', right_on='CollaboratingCountries')\n",
    "print(\"After Collaborating Countries Merge:\", df.shape)\n"
   ]
  },
  {
   "cell_type": "code",
   "execution_count": 86,
   "id": "13dc69dc",
   "metadata": {},
   "outputs": [
    {
     "data": {
      "text/plain": [
       "Index(['Country', 'Year', 'Mission_Name', 'Mission_Type', 'Launch_Site',\n",
       "       'Satellite_Type', 'Budget_in_Billion_$', 'Success_Rate_%',\n",
       "       'Technology_Used', 'Environmental_Impact', 'Collaborating_Countries',\n",
       "       'Duration_in_Days', 'Country_Key', 'Year_Key', 'Decade',\n",
       "       'LaunchSite_Key', 'LaunchSite', 'EnvImpact_Key', 'EnvironmentalImpact',\n",
       "       'MissionType_Key', 'MissionType', 'SatelliteType_Key', 'SatelliteType',\n",
       "       'Tech_Key', 'Technology', 'CollabCountries_Key',\n",
       "       'CollaboratingCountries'],\n",
       "      dtype='object')"
      ]
     },
     "execution_count": 86,
     "metadata": {},
     "output_type": "execute_result"
    }
   ],
   "source": [
    "df.columns"
   ]
  },
  {
   "cell_type": "markdown",
   "id": "1eb5eea0",
   "metadata": {},
   "source": [
    "**Create and Load the Fact Table**"
   ]
  },
  {
   "cell_type": "code",
   "execution_count": 95,
   "id": "0af058b1",
   "metadata": {},
   "outputs": [
    {
     "data": {
      "text/plain": [
       "20"
      ]
     },
     "execution_count": 95,
     "metadata": {},
     "output_type": "execute_result"
    }
   ],
   "source": [
    "fact_df = df[[  \n",
    "    'Mission_Name', \n",
    "    'Country_Key', \n",
    "    'Year_Key', \n",
    "    'LaunchSite_Key',\n",
    "    'MissionType_Key',\n",
    "    'SatelliteType_Key',\n",
    "    'Tech_Key',\n",
    "    'EnvImpact_Key',\n",
    "    'CollabCountries_Key',\n",
    "    'Budget_in_Billion_$',\n",
    "    'Success_Rate_%',\n",
    "    'Duration_in_Days'\n",
    "]].copy()\n",
    "\n",
    "fact_df.rename(columns={\n",
    "    'Mission_Name': 'MissionName',\n",
    "    'Budget_in_Billion_$': 'Budget',\n",
    "    'Success_Rate_%': 'SuccessRate',\n",
    "    'Duration_in_Days': 'Duration'\n",
    "}, inplace=True)\n",
    "\n",
    "\n",
    "\n",
    "fact_df.to_sql('FactMissions', con=engine, if_exists='append', index=False)"
   ]
  }
 ],
 "metadata": {
  "kernelspec": {
   "display_name": "Python 3",
   "language": "python",
   "name": "python3"
  },
  "language_info": {
   "codemirror_mode": {
    "name": "ipython",
    "version": 3
   },
   "file_extension": ".py",
   "mimetype": "text/x-python",
   "name": "python",
   "nbconvert_exporter": "python",
   "pygments_lexer": "ipython3",
   "version": "3.11.5"
  }
 },
 "nbformat": 4,
 "nbformat_minor": 5
}

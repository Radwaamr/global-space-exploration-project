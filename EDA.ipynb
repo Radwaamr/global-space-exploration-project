{
 "cells": [
  {
   "cell_type": "code",
   "execution_count": null,
   "id": "66a86ab7",
   "metadata": {},
   "outputs": [
    {
     "data": {
      "text/html": [
       "<div>\n",
       "<style scoped>\n",
       "    .dataframe tbody tr th:only-of-type {\n",
       "        vertical-align: middle;\n",
       "    }\n",
       "\n",
       "    .dataframe tbody tr th {\n",
       "        vertical-align: top;\n",
       "    }\n",
       "\n",
       "    .dataframe thead th {\n",
       "        text-align: right;\n",
       "    }\n",
       "</style>\n",
       "<table border=\"1\" class=\"dataframe\">\n",
       "  <thead>\n",
       "    <tr style=\"text-align: right;\">\n",
       "      <th></th>\n",
       "      <th>Country</th>\n",
       "      <th>Year</th>\n",
       "      <th>Mission Name</th>\n",
       "      <th>Mission Type</th>\n",
       "      <th>Launch Site</th>\n",
       "      <th>Satellite Type</th>\n",
       "      <th>Budget (in Billion $)</th>\n",
       "      <th>Success Rate (%)</th>\n",
       "      <th>Technology Used</th>\n",
       "      <th>Environmental Impact</th>\n",
       "      <th>Collaborating Countries</th>\n",
       "      <th>Duration (in Days)</th>\n",
       "    </tr>\n",
       "  </thead>\n",
       "  <tbody>\n",
       "    <tr>\n",
       "      <th>0</th>\n",
       "      <td>China</td>\n",
       "      <td>2008</td>\n",
       "      <td>Sharable tertiary superstructure</td>\n",
       "      <td>Manned</td>\n",
       "      <td>Sheilatown</td>\n",
       "      <td>Communication</td>\n",
       "      <td>16.20</td>\n",
       "      <td>90</td>\n",
       "      <td>Nuclear Propulsion</td>\n",
       "      <td>Medium</td>\n",
       "      <td>France, UK, Russia</td>\n",
       "      <td>112</td>\n",
       "    </tr>\n",
       "    <tr>\n",
       "      <th>1</th>\n",
       "      <td>Japan</td>\n",
       "      <td>2018</td>\n",
       "      <td>Re-engineered composite flexibility</td>\n",
       "      <td>Manned</td>\n",
       "      <td>New Ericfurt</td>\n",
       "      <td>Communication</td>\n",
       "      <td>29.04</td>\n",
       "      <td>99</td>\n",
       "      <td>Solar Propulsion</td>\n",
       "      <td>High</td>\n",
       "      <td>Germany, Israel</td>\n",
       "      <td>236</td>\n",
       "    </tr>\n",
       "    <tr>\n",
       "      <th>2</th>\n",
       "      <td>Israel</td>\n",
       "      <td>2013</td>\n",
       "      <td>Reactive disintermediate projection</td>\n",
       "      <td>Manned</td>\n",
       "      <td>Port Kaitlynstad</td>\n",
       "      <td>Communication</td>\n",
       "      <td>28.73</td>\n",
       "      <td>54</td>\n",
       "      <td>AI Navigation</td>\n",
       "      <td>Medium</td>\n",
       "      <td>China, Israel, USA</td>\n",
       "      <td>238</td>\n",
       "    </tr>\n",
       "    <tr>\n",
       "      <th>3</th>\n",
       "      <td>UAE</td>\n",
       "      <td>2010</td>\n",
       "      <td>Grass-roots 6thgeneration implementation</td>\n",
       "      <td>Unmanned</td>\n",
       "      <td>Mariastad</td>\n",
       "      <td>Spy</td>\n",
       "      <td>37.27</td>\n",
       "      <td>58</td>\n",
       "      <td>Traditional Rocket</td>\n",
       "      <td>Low</td>\n",
       "      <td>USA</td>\n",
       "      <td>186</td>\n",
       "    </tr>\n",
       "    <tr>\n",
       "      <th>4</th>\n",
       "      <td>India</td>\n",
       "      <td>2006</td>\n",
       "      <td>Balanced discrete orchestration</td>\n",
       "      <td>Manned</td>\n",
       "      <td>North Jasonborough</td>\n",
       "      <td>Weather</td>\n",
       "      <td>18.95</td>\n",
       "      <td>91</td>\n",
       "      <td>Solar Propulsion</td>\n",
       "      <td>Medium</td>\n",
       "      <td>Israel, China, India</td>\n",
       "      <td>277</td>\n",
       "    </tr>\n",
       "  </tbody>\n",
       "</table>\n",
       "</div>"
      ],
      "text/plain": [
       "  Country  Year                              Mission Name Mission Type  \\\n",
       "0   China  2008          Sharable tertiary superstructure       Manned   \n",
       "1   Japan  2018       Re-engineered composite flexibility       Manned   \n",
       "2  Israel  2013       Reactive disintermediate projection       Manned   \n",
       "3     UAE  2010  Grass-roots 6thgeneration implementation     Unmanned   \n",
       "4   India  2006           Balanced discrete orchestration       Manned   \n",
       "\n",
       "          Launch Site Satellite Type  Budget (in Billion $)  Success Rate (%)  \\\n",
       "0          Sheilatown  Communication                  16.20                90   \n",
       "1        New Ericfurt  Communication                  29.04                99   \n",
       "2    Port Kaitlynstad  Communication                  28.73                54   \n",
       "3           Mariastad            Spy                  37.27                58   \n",
       "4  North Jasonborough        Weather                  18.95                91   \n",
       "\n",
       "      Technology Used Environmental Impact Collaborating Countries  \\\n",
       "0  Nuclear Propulsion               Medium      France, UK, Russia   \n",
       "1    Solar Propulsion                 High         Germany, Israel   \n",
       "2       AI Navigation               Medium      China, Israel, USA   \n",
       "3  Traditional Rocket                  Low                     USA   \n",
       "4    Solar Propulsion               Medium    Israel, China, India   \n",
       "\n",
       "   Duration (in Days)  \n",
       "0                 112  \n",
       "1                 236  \n",
       "2                 238  \n",
       "3                 186  \n",
       "4                 277  "
      ]
     },
     "execution_count": 22,
     "metadata": {},
     "output_type": "execute_result"
    }
   ],
   "source": [
    "import pandas as pd\n",
    "import matplotlib.pyplot as plt\n",
    "import seaborn as sns\n",
    "\n",
    "df = pd.read_csv(\"Global_Space_Exploration_Dataset.csv\")\n",
    "df.head()"
   ]
  },
  {
   "cell_type": "code",
   "execution_count": 2,
   "id": "dab56f4a",
   "metadata": {},
   "outputs": [
    {
     "name": "stdout",
     "output_type": "stream",
     "text": [
      "<class 'pandas.core.frame.DataFrame'>\n",
      "RangeIndex: 3000 entries, 0 to 2999\n",
      "Data columns (total 12 columns):\n",
      " #   Column                   Non-Null Count  Dtype  \n",
      "---  ------                   --------------  -----  \n",
      " 0   Country                  3000 non-null   object \n",
      " 1   Year                     3000 non-null   int64  \n",
      " 2   Mission Name             3000 non-null   object \n",
      " 3   Mission Type             3000 non-null   object \n",
      " 4   Launch Site              3000 non-null   object \n",
      " 5   Satellite Type           3000 non-null   object \n",
      " 6   Budget (in Billion $)    3000 non-null   float64\n",
      " 7   Success Rate (%)         3000 non-null   int64  \n",
      " 8   Technology Used          3000 non-null   object \n",
      " 9   Environmental Impact     3000 non-null   object \n",
      " 10  Collaborating Countries  3000 non-null   object \n",
      " 11  Duration (in Days)       3000 non-null   int64  \n",
      "dtypes: float64(1), int64(3), object(8)\n",
      "memory usage: 281.4+ KB\n"
     ]
    }
   ],
   "source": [
    "df.info()"
   ]
  },
  {
   "cell_type": "code",
   "execution_count": 14,
   "id": "b38abc62",
   "metadata": {},
   "outputs": [
    {
     "data": {
      "text/plain": [
       "(3000, 12)"
      ]
     },
     "execution_count": 14,
     "metadata": {},
     "output_type": "execute_result"
    }
   ],
   "source": [
    "df.shape"
   ]
  },
  {
   "cell_type": "code",
   "execution_count": 15,
   "id": "9b6a20d9",
   "metadata": {},
   "outputs": [
    {
     "data": {
      "text/plain": [
       "Index(['Country', 'Year', 'Mission Name', 'Mission Type', 'Launch Site',\n",
       "       'Satellite Type', 'Budget (in Billion $)', 'Success Rate (%)',\n",
       "       'Technology Used', 'Environmental Impact', 'Collaborating Countries',\n",
       "       'Duration (in Days)'],\n",
       "      dtype='object')"
      ]
     },
     "execution_count": 15,
     "metadata": {},
     "output_type": "execute_result"
    }
   ],
   "source": [
    "df.columns"
   ]
  },
  {
   "cell_type": "code",
   "execution_count": 9,
   "id": "416199cd",
   "metadata": {},
   "outputs": [
    {
     "data": {
      "text/plain": [
       "array(['China', 'Japan', 'Israel', 'UAE', 'India', 'USA', 'Germany',\n",
       "       'France', 'UK', 'Russia'], dtype=object)"
      ]
     },
     "execution_count": 9,
     "metadata": {},
     "output_type": "execute_result"
    }
   ],
   "source": [
    "df['Country'].unique()"
   ]
  },
  {
   "cell_type": "code",
   "execution_count": 10,
   "id": "5e5fe091",
   "metadata": {},
   "outputs": [
    {
     "name": "stdout",
     "output_type": "stream",
     "text": [
      "<class 'pandas.core.frame.DataFrame'>\n",
      "RangeIndex: 3000 entries, 0 to 2999\n",
      "Data columns (total 12 columns):\n",
      " #   Column                   Non-Null Count  Dtype  \n",
      "---  ------                   --------------  -----  \n",
      " 0   Country                  3000 non-null   object \n",
      " 1   Year                     3000 non-null   int64  \n",
      " 2   Mission Name             3000 non-null   object \n",
      " 3   Mission Type             3000 non-null   object \n",
      " 4   Launch Site              3000 non-null   object \n",
      " 5   Satellite Type           3000 non-null   object \n",
      " 6   Budget (in Billion $)    3000 non-null   float64\n",
      " 7   Success Rate (%)         3000 non-null   int64  \n",
      " 8   Technology Used          3000 non-null   object \n",
      " 9   Environmental Impact     3000 non-null   object \n",
      " 10  Collaborating Countries  3000 non-null   object \n",
      " 11  Duration (in Days)       3000 non-null   int64  \n",
      "dtypes: float64(1), int64(3), object(8)\n",
      "memory usage: 281.4+ KB\n"
     ]
    }
   ],
   "source": [
    "df.info()"
   ]
  },
  {
   "cell_type": "code",
   "execution_count": 11,
   "id": "2bfa3404",
   "metadata": {},
   "outputs": [
    {
     "data": {
      "text/plain": [
       "array(['Manned', 'Unmanned'], dtype=object)"
      ]
     },
     "execution_count": 11,
     "metadata": {},
     "output_type": "execute_result"
    }
   ],
   "source": [
    "df['Mission Type'].unique()"
   ]
  },
  {
   "cell_type": "code",
   "execution_count": 12,
   "id": "c14cc15e",
   "metadata": {},
   "outputs": [
    {
     "data": {
      "text/html": [
       "<div>\n",
       "<style scoped>\n",
       "    .dataframe tbody tr th:only-of-type {\n",
       "        vertical-align: middle;\n",
       "    }\n",
       "\n",
       "    .dataframe tbody tr th {\n",
       "        vertical-align: top;\n",
       "    }\n",
       "\n",
       "    .dataframe thead th {\n",
       "        text-align: right;\n",
       "    }\n",
       "</style>\n",
       "<table border=\"1\" class=\"dataframe\">\n",
       "  <thead>\n",
       "    <tr style=\"text-align: right;\">\n",
       "      <th></th>\n",
       "      <th>Year</th>\n",
       "      <th>Budget (in Billion $)</th>\n",
       "      <th>Success Rate (%)</th>\n",
       "      <th>Duration (in Days)</th>\n",
       "    </tr>\n",
       "  </thead>\n",
       "  <tbody>\n",
       "    <tr>\n",
       "      <th>count</th>\n",
       "      <td>3000.000000</td>\n",
       "      <td>3000.000000</td>\n",
       "      <td>3000.000000</td>\n",
       "      <td>3000.000000</td>\n",
       "    </tr>\n",
       "    <tr>\n",
       "      <th>mean</th>\n",
       "      <td>2012.471000</td>\n",
       "      <td>25.428917</td>\n",
       "      <td>74.985000</td>\n",
       "      <td>181.483000</td>\n",
       "    </tr>\n",
       "    <tr>\n",
       "      <th>std</th>\n",
       "      <td>7.437177</td>\n",
       "      <td>14.108438</td>\n",
       "      <td>14.945252</td>\n",
       "      <td>104.983822</td>\n",
       "    </tr>\n",
       "    <tr>\n",
       "      <th>min</th>\n",
       "      <td>2000.000000</td>\n",
       "      <td>0.530000</td>\n",
       "      <td>50.000000</td>\n",
       "      <td>1.000000</td>\n",
       "    </tr>\n",
       "    <tr>\n",
       "      <th>25%</th>\n",
       "      <td>2006.000000</td>\n",
       "      <td>12.977500</td>\n",
       "      <td>62.000000</td>\n",
       "      <td>91.000000</td>\n",
       "    </tr>\n",
       "    <tr>\n",
       "      <th>50%</th>\n",
       "      <td>2012.000000</td>\n",
       "      <td>25.495000</td>\n",
       "      <td>75.000000</td>\n",
       "      <td>180.000000</td>\n",
       "    </tr>\n",
       "    <tr>\n",
       "      <th>75%</th>\n",
       "      <td>2019.000000</td>\n",
       "      <td>37.597500</td>\n",
       "      <td>88.000000</td>\n",
       "      <td>272.000000</td>\n",
       "    </tr>\n",
       "    <tr>\n",
       "      <th>max</th>\n",
       "      <td>2025.000000</td>\n",
       "      <td>49.970000</td>\n",
       "      <td>100.000000</td>\n",
       "      <td>365.000000</td>\n",
       "    </tr>\n",
       "  </tbody>\n",
       "</table>\n",
       "</div>"
      ],
      "text/plain": [
       "              Year  Budget (in Billion $)  Success Rate (%)  \\\n",
       "count  3000.000000            3000.000000       3000.000000   \n",
       "mean   2012.471000              25.428917         74.985000   \n",
       "std       7.437177              14.108438         14.945252   \n",
       "min    2000.000000               0.530000         50.000000   \n",
       "25%    2006.000000              12.977500         62.000000   \n",
       "50%    2012.000000              25.495000         75.000000   \n",
       "75%    2019.000000              37.597500         88.000000   \n",
       "max    2025.000000              49.970000        100.000000   \n",
       "\n",
       "       Duration (in Days)  \n",
       "count         3000.000000  \n",
       "mean           181.483000  \n",
       "std            104.983822  \n",
       "min              1.000000  \n",
       "25%             91.000000  \n",
       "50%            180.000000  \n",
       "75%            272.000000  \n",
       "max            365.000000  "
      ]
     },
     "execution_count": 12,
     "metadata": {},
     "output_type": "execute_result"
    }
   ],
   "source": [
    "df.describe()"
   ]
  },
  {
   "cell_type": "code",
   "execution_count": 18,
   "id": "ec89ed7b",
   "metadata": {},
   "outputs": [
    {
     "data": {
      "text/plain": [
       "Country                    0\n",
       "Year                       0\n",
       "Mission Name               0\n",
       "Mission Type               0\n",
       "Launch Site                0\n",
       "Satellite Type             0\n",
       "Budget (in Billion $)      0\n",
       "Success Rate (%)           0\n",
       "Technology Used            0\n",
       "Environmental Impact       0\n",
       "Collaborating Countries    0\n",
       "Duration (in Days)         0\n",
       "dtype: int64"
      ]
     },
     "execution_count": 18,
     "metadata": {},
     "output_type": "execute_result"
    }
   ],
   "source": [
    "df.isnull().sum()"
   ]
  },
  {
   "cell_type": "code",
   "execution_count": 19,
   "id": "a49067ff",
   "metadata": {},
   "outputs": [
    {
     "data": {
      "text/html": [
       "<div>\n",
       "<style scoped>\n",
       "    .dataframe tbody tr th:only-of-type {\n",
       "        vertical-align: middle;\n",
       "    }\n",
       "\n",
       "    .dataframe tbody tr th {\n",
       "        vertical-align: top;\n",
       "    }\n",
       "\n",
       "    .dataframe thead th {\n",
       "        text-align: right;\n",
       "    }\n",
       "</style>\n",
       "<table border=\"1\" class=\"dataframe\">\n",
       "  <thead>\n",
       "    <tr style=\"text-align: right;\">\n",
       "      <th></th>\n",
       "      <th>Country</th>\n",
       "      <th>Year</th>\n",
       "      <th>Mission Name</th>\n",
       "      <th>Mission Type</th>\n",
       "      <th>Launch Site</th>\n",
       "      <th>Satellite Type</th>\n",
       "      <th>Budget (in Billion $)</th>\n",
       "      <th>Success Rate (%)</th>\n",
       "      <th>Technology Used</th>\n",
       "      <th>Environmental Impact</th>\n",
       "      <th>Collaborating Countries</th>\n",
       "      <th>Duration (in Days)</th>\n",
       "    </tr>\n",
       "  </thead>\n",
       "  <tbody>\n",
       "  </tbody>\n",
       "</table>\n",
       "</div>"
      ],
      "text/plain": [
       "Empty DataFrame\n",
       "Columns: [Country, Year, Mission Name, Mission Type, Launch Site, Satellite Type, Budget (in Billion $), Success Rate (%), Technology Used, Environmental Impact, Collaborating Countries, Duration (in Days)]\n",
       "Index: []"
      ]
     },
     "execution_count": 19,
     "metadata": {},
     "output_type": "execute_result"
    }
   ],
   "source": [
    "df[df.duplicated(keep='first')]"
   ]
  },
  {
   "cell_type": "markdown",
   "id": "38a8d7b6",
   "metadata": {},
   "source": [
    "Univariate Analysis"
   ]
  },
  {
   "cell_type": "code",
   "execution_count": 24,
   "id": "9e2ecf1b",
   "metadata": {},
   "outputs": [
    {
     "data": {
      "image/png": "[encoded data removed]",
      "text/plain": [
       "<Figure size 1200x600 with 1 Axes>"
      ]
     },
     "metadata": {},
     "output_type": "display_data"
    }
   ],
   "source": [
    "plt.figure(figsize=(12, 6))\n",
    "df['Year'].value_counts().sort_index().plot(kind='bar', color='skyblue')\n",
    "plt.title(\"Number of Missions per Year\")\n",
    "plt.xlabel(\"Year\")\n",
    "plt.ylabel(\"Number of Missions\")\n",
    "plt.xticks(rotation=45)\n",
    "plt.tight_layout()\n",
    "plt.show()\n"
   ]
  },
  {
   "cell_type": "code",
   "execution_count": 25,
   "id": "1a497f7b",
   "metadata": {},
   "outputs": [
    {
     "data": {
      "image/png": "[encoded data removed]",
      "text/plain": [
       "<Figure size 1000x600 with 1 Axes>"
      ]
     },
     "metadata": {},
     "output_type": "display_data"
    }
   ],
   "source": [
    "plt.figure(figsize=(10, 6))\n",
    "df['Country'].value_counts().head(10).plot(kind='barh', color='salmon')\n",
    "plt.title(\"Top 10 Countries by Number of Missions\")\n",
    "plt.xlabel(\"Number of Missions\")\n",
    "plt.ylabel(\"Country\")\n",
    "plt.tight_layout()\n",
    "plt.show()\n"
   ]
  },
  {
   "cell_type": "code",
   "execution_count": 27,
   "id": "42d2002b",
   "metadata": {},
   "outputs": [
    {
     "data": {
      "image/png": "[encoded data removed]",
      "text/plain": [
       "<Figure size 1000x600 with 1 Axes>"
      ]
     },
     "metadata": {},
     "output_type": "display_data"
    }
   ],
   "source": [
    "plt.figure(figsize=(10, 6))\n",
    "df['Mission Type'].value_counts().plot(kind='pie', autopct='%1.1f%%', startangle=140)\n",
    "plt.title(\"Mission Type Distribution\")\n",
    "plt.ylabel(\"\")\n",
    "plt.tight_layout()\n",
    "plt.show()\n"
   ]
  },
  {
   "cell_type": "code",
   "execution_count": 35,
   "id": "5a5b895a",
   "metadata": {},
   "outputs": [
    {
     "name": "stdout",
     "output_type": "stream",
     "text": [
      "<class 'pandas.core.frame.DataFrame'>\n",
      "RangeIndex: 3000 entries, 0 to 2999\n",
      "Data columns (total 12 columns):\n",
      " #   Column                   Non-Null Count  Dtype  \n",
      "---  ------                   --------------  -----  \n",
      " 0   Country                  3000 non-null   object \n",
      " 1   Year                     3000 non-null   int64  \n",
      " 2   Mission Name             3000 non-null   object \n",
      " 3   Mission Type             3000 non-null   object \n",
      " 4   Launch Site              3000 non-null   object \n",
      " 5   Satellite Type           3000 non-null   object \n",
      " 6   Budget (in Billion $)    3000 non-null   float64\n",
      " 7   Success Rate (%)         3000 non-null   int64  \n",
      " 8   Technology Used          3000 non-null   object \n",
      " 9   Environmental Impact     3000 non-null   object \n",
      " 10  Collaborating Countries  3000 non-null   object \n",
      " 11  Duration (in Days)       3000 non-null   int64  \n",
      "dtypes: float64(1), int64(3), object(8)\n",
      "memory usage: 281.4+ KB\n"
     ]
    }
   ],
   "source": [
    "df.info()"
   ]
  }
 ],
 "metadata": {
  "kernelspec": {
   "display_name": "Python 3",
   "language": "python",
   "name": "python3"
  },
  "language_info": {
   "codemirror_mode": {
    "name": "ipython",
    "version": 3
   },
   "file_extension": ".py",
   "mimetype": "text/x-python",
   "name": "python",
   "nbconvert_exporter": "python",
   "pygments_lexer": "ipython3",
   "version": "3.11.5"
  }
 },
 "nbformat": 4,
 "nbformat_minor": 5
}
